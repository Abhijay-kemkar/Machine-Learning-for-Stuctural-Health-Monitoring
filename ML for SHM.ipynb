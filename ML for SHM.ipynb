{
 "cells": [
  {
   "cell_type": "code",
   "execution_count": 1,
   "metadata": {},
   "outputs": [],
   "source": [
    "import numpy as np\n",
    "import pandas as pd\n",
    "import math\n",
    "import random\n",
    "%matplotlib inline\n",
    "import matplotlib.pyplot as plt"
   ]
  },
  {
   "cell_type": "code",
   "execution_count": 2,
   "metadata": {},
   "outputs": [],
   "source": [
    "eps = 1e-8 "
   ]
  },
  {
   "cell_type": "code",
   "execution_count": 3,
   "metadata": {},
   "outputs": [],
   "source": [
    "def load_dataset():\n",
    "    # YOUR CODE STARTS\n",
    "    return pd.read_csv('dataset.csv')"
   ]
  },
  {
   "cell_type": "code",
   "execution_count": 4,
   "metadata": {},
   "outputs": [],
   "source": [
    "df = load_dataset()"
   ]
  },
  {
   "cell_type": "code",
   "execution_count": 5,
   "metadata": {},
   "outputs": [],
   "source": [
    "def normalise(df):\n",
    "    # YOUR CODE STARTS\n",
    "    non_categ = ['age', 'trestbps', 'chol', 'thalach', 'oldpeak']\n",
    "    for i in range(len(df.columns)):\n",
    "        if df.columns[i] in non_categ:\n",
    "            df[df.columns[i]] = (df[df.columns[i]]-df[df.columns[i]].mean())/(df[df.columns[i]].std())\n",
    "    return df"
   ]
  },
  {
   "cell_type": "code",
   "execution_count": 6,
   "metadata": {},
   "outputs": [],
   "source": [
    "df = normalise(df)"
   ]
  },
  {
   "cell_type": "code",
   "execution_count": 7,
   "metadata": {},
   "outputs": [],
   "source": [
    "def get_features(df):\n",
    "    X = df.iloc[:,:len(df.columns)-1]\n",
    "    return X.values\n",
    "def get_targets(df):\n",
    "    y = df.iloc[:,13:14]\n",
    "    return y.values"
   ]
  },
  {
   "cell_type": "code",
   "execution_count": 8,
   "metadata": {},
   "outputs": [],
   "source": [
    "X = get_features(df)\n",
    "y = get_targets(df)"
   ]
  },
  {
   "cell_type": "code",
   "execution_count": 9,
   "metadata": {},
   "outputs": [],
   "source": [
    "X_train = np.array(X[:258])\n",
    "X_test = np.array(X[258:])\n",
    "y_train = y[:258].reshape(1,-1)\n",
    "y_test = y[258:].reshape(1,-1)"
   ]
  },
  {
   "cell_type": "code",
   "execution_count": 10,
   "metadata": {},
   "outputs": [],
   "source": [
    "def Initialization(I, H1, H2, O):\n",
    "    '''\n",
    "    Weights are initialized to random values in the range [0, 0.01) using np.random.rand appropriately and\n",
    "    biases are initialized to zero. The dimensions of the\n",
    "    parameters as as follows:- \n",
    "\n",
    "          W1: First layer weights; has shape (H1, I)\n",
    "          b1: First layer biases; has shape (H1, 1)\n",
    "          W2: Second layer weights; has shape (H2, H1)\n",
    "          b2: Second layer biases; has shape (H2, 1)\n",
    "          W3: Third layer weights; has shape (O, H2)\n",
    "          b2: Third layer biases; has shape (O, 1)\n",
    "\n",
    "          Inputs:\n",
    "          - I: The number of features of the input data.\n",
    "          - H1: The number of neurons in the hidden layer - 1.\n",
    "          - H2: The number of neurons in the hidden layer - 2.\n",
    "          - O: The number of outputs(i.e. 1).\n",
    "\n",
    "          Outputs:\n",
    "          - paramters_final: List containing of parameters \n",
    "          after they are initialized with appropriate values in this order:\n",
    "          [W1, b1, W2, b2, W3, b3]\n",
    "        '''\n",
    "\n",
    "    W1 = np.random.rand(H1,I)/100\n",
    "    W2 = np.random.rand(H2,H1)/100\n",
    "    W3 = np.random.rand(O,H2)/100\n",
    "    b1 = np.zeros((H1,1))\n",
    "    b2 = np.zeros((H2,1))\n",
    "    b3 = np.zeros((O,1))\n",
    "    return W1, b1, W2, b2, W3, b3"
   ]
  },
  {
   "cell_type": "code",
   "execution_count": 11,
   "metadata": {},
   "outputs": [],
   "source": [
    "def feed_forward(X, parameters):\n",
    "    '''\n",
    "    Compute the output of a full forward pass of the network.\n",
    "        \n",
    "    Using the formulae given below, apply 'forward prop' for each layer according to the defined architecture\n",
    "\n",
    "    z = WX + b\n",
    "    a = g(z)  {g being the non linear function}\n",
    "\n",
    "    Inputs:\n",
    "    - X : Input data of shape (13, -1). Each X[i] is a feature and each X[:][i] is a training sample\n",
    "    - parameters: List containing the parameters of the model\n",
    "\n",
    "    Outputs:\n",
    "    - y_out : Numpy array with final outputs of shape (1, -1)\n",
    "    - l : List containing the activation and linear outputs of each layer in the following fashion\n",
    "      [z1,a1,z2,a2,z3,a3]\n",
    "    '''\n",
    "    # YOUR CODE STARTS\n",
    "    a = X\n",
    "    no_of_layers = int(len(parameters)/2)\n",
    "    l = []                             #list of activation and linear outputs\n",
    "    for layer in range(no_of_layers):\n",
    "        z = np.dot(parameters[2*layer],a) + parameters[(2*layer+1)][0]\n",
    "        if (layer+1) == no_of_layers :\n",
    "            a = sigmoid(z)\n",
    "        else :\n",
    "            a = np.maximum(0,z)\n",
    "        l.append(z)\n",
    "        l.append(a)\n",
    "    return a , l"
   ]
  },
  {
   "cell_type": "code",
   "execution_count": 12,
   "metadata": {},
   "outputs": [],
   "source": [
    "def loss_compute(y_pred, yd):\n",
    "    '''\n",
    "    Inputs: \n",
    "    - y_pred: numpy array containing predicted values of target\n",
    "    - yd: numpy array containing desired values of y given in the \n",
    "    dataset\n",
    "\n",
    "    Outputs:\n",
    "    - loss: Calculate and return the loss using the above formula\n",
    "    '''\n",
    "    return (1/np.size(y_pred))*np.sum(((-1)*(yd*np.log(y_pred+eps)))-((1-yd)*np.log(1-y_pred+eps)))  "
   ]
  },
  {
   "cell_type": "code",
   "execution_count": 13,
   "metadata": {},
   "outputs": [],
   "source": [
    "def regularization_L2(lmbda, W1, W2, W3, m):\n",
    "    '''\n",
    "    Inputs:\n",
    "    - lmbda: Regularization parameter\n",
    "    - W1, W2, W3: numpy arrays containing weights of the model\n",
    "    - m: no of examples\n",
    "\n",
    "    Outputs:\n",
    "    - total_reg_loss: sum of L2 regularization loss of each layer\n",
    "    '''\n",
    "    return (1/m)*(lmbda/2)*(np.sum(W1*W1)+np.sum(W2*W2)+np.sum(W3*W3))"
   ]
  },
  {
   "cell_type": "code",
   "execution_count": 14,
   "metadata": {},
   "outputs": [],
   "source": [
    "def sigmoid(z):\n",
    "    z = z.astype(np.float128)\n",
    "    return 1/(1 + np.exp(-z)) "
   ]
  },
  {
   "cell_type": "code",
   "execution_count": 15,
   "metadata": {},
   "outputs": [],
   "source": [
    "def drelu(z):\n",
    "    return (lambda z: 1*(z>0))(z)\n",
    "\n",
    "def dSigmoid(z):\n",
    "    return (lambda z: sigmoid(z)*(1-sigmoid(z)))(z)"
   ]
  },
  {
   "cell_type": "code",
   "execution_count": 16,
   "metadata": {},
   "outputs": [],
   "source": [
    "def back_prop_linear(da_layer, z_layer, input, act_fxn, m, lmbda, weight):\n",
    "    '''\n",
    "    Inputs:\n",
    "    - da_layer: derivative of variable 'a' of that layer\n",
    "    - z_layer: numpy array of 'z' values\n",
    "    \n",
    "    - input: input value of that layer, for example, X is the\n",
    "    input for the first layer, and for other layers, it is the activation A of the previous layer\n",
    "    \n",
    "    - act_fxn: string containing the name of the activation \n",
    "    function used in that layer,i.e. 'sigmoid' or 'relu' (depending on this, the appropriate function is called)\n",
    "    \n",
    "    - m: number of datapoints\n",
    "    - lmbda: regularization parameter\n",
    "    - weight: weights of that particular layer\n",
    "  \n",
    "      Outputs:\n",
    "    - dz: returns the derivative of linear function variable\n",
    "    - dW: returns the change in weights for that layer\n",
    "    - db: returns the change in bias for that layer\n",
    "    '''\n",
    "    if act_fxn == 'relu':\n",
    "        dz = da_layer * drelu(z_layer)\n",
    "    else:\n",
    "        dz = da_layer * dSigmoid(z_layer)\n",
    "    dW = (1/m)*(np.matmul(dz, input.transpose())) + (1/m)*lmbda*weight\n",
    "    db = (1/m)*np.sum(dz, axis=1)\n",
    "    db = db.reshape((db.shape[0], 1))\n",
    "    return dz, dW, db"
   ]
  },
  {
   "cell_type": "code",
   "execution_count": 17,
   "metadata": {},
   "outputs": [],
   "source": [
    "def back_prop_actf(W_plusone, dz_plusone):\n",
    "    '''\n",
    "    Inputs:\n",
    "    - W_plusone: Weights of the next layer\n",
    "    - dz_plusone: Derivative of the linear function of the next\n",
    "    layer\n",
    "\n",
    "    Outputs:\n",
    "    - act_dtive: returns the derivative of activation function variable\n",
    "    '''\n",
    "    return np.dot(W_plusone.transpose(), dz_plusone)"
   ]
  },
  {
   "cell_type": "code",
   "execution_count": 18,
   "metadata": {},
   "outputs": [],
   "source": [
    "def Backpropagation1(X, yd, l, y_pred, parameters, lmbda):\n",
    "    '''\n",
    "      Inputs:\n",
    "      - X: Input features - shape (no of features, no of examples)\n",
    "      - yd: y desired values(labels given in dataset)\n",
    "      - l: list containing values of 'z' and 'a' of each layer\n",
    "      - parameters: list containing weights and biases of each layer\n",
    "      - lmbda: regularization parameter\n",
    "\n",
    "      Outputs:\n",
    "      - grad: dictionary containing the change in the values of weights\n",
    "      and biases with keys 'dW1','db1','dW2','db2','dW3','db3' \n",
    "    '''\n",
    "    no_of_layers = int(len(parameters)/2)\n",
    "\n",
    "    da3 = -(np.divide(yd,y_pred)-np.divide(1-yd,1-y_pred))\n",
    "    dz3 , dW3 , db3 = back_prop_linear(da3, l[4], l[3], 'sigmoid', X.shape[1], lmbda, parameters[4])\n",
    "    da2 =  back_prop_actf(parameters[4] , dz3)\n",
    "    dz2 , dW2 , db2 = back_prop_linear(da2, l[2], l[1], 'relu', X.shape[1], lmbda, parameters[2])\n",
    "    da1 =  back_prop_actf(parameters[2] , dz2)\n",
    "    dz1 , dW1 , db1 = back_prop_linear(da1, l[0], X, 'relu', X.shape[1], lmbda, parameters[0])\n",
    "\n",
    "    return { \"dW1\": dW1, \"db1\": db2, \"dW2\": dW2, \"db2\": db2, \"dW3\": dW3, \"db3\": db3 }"
   ]
  },
  {
   "cell_type": "code",
   "execution_count": 19,
   "metadata": {},
   "outputs": [],
   "source": [
    "def training(X, yd, parameters, eta = 0.05, num_iters=3000, lmbda = 0.1):\n",
    "    '''\n",
    "      Inputs:\n",
    "      - X: Input features - shape (no of features, no of examples)\n",
    "      - yd: y desired values(labels given in dataset)\n",
    "      - eta: learning rate\n",
    "      - num_iters: number of iterations\n",
    "      - lmbda: regularization parameter\n",
    "\n",
    "      Outputs:\n",
    "      - history: list of loss at the start of each iteration \n",
    "      - parameters: the final parameters \n",
    "    '''\n",
    "    history = []\n",
    "    parameters = list(parameters)\n",
    "    for i in range(num_iters):\n",
    "        y_pred , l = feed_forward(X , parameters)\n",
    "        grad = Backpropagation1(X, yd, l, y_pred, parameters, lmbda)\n",
    "        for i , key in enumerate(grad) :\n",
    "            parameters[i] = parameters[i] - (eta*grad[key])\n",
    "        loss = loss_compute(y_pred , yd) + regularization_L2(lmbda, parameters[0], parameters[2], parameters[4], X.shape[1])\n",
    "        history.append(loss)\n",
    "    return history , parameters"
   ]
  },
  {
   "cell_type": "code",
   "execution_count": 20,
   "metadata": {},
   "outputs": [],
   "source": [
    "np.random.seed(4)\n",
    "parameters = Initialization(13, 100, 100, 1)\n",
    "losses, parameters_final = training(X_train.T, y_train,parameters, eta = 0.05, num_iters=3000, lmbda = 0.1)"
   ]
  },
  {
   "cell_type": "code",
   "execution_count": 21,
   "metadata": {},
   "outputs": [
    {
     "data": {
      "image/png": "[encoded data removed]",
      "text/plain": [
       "<Figure size 432x288 with 1 Axes>"
      ]
     },
     "metadata": {
      "needs_background": "light"
     },
     "output_type": "display_data"
    }
   ],
   "source": [
    "plt.plot(losses)\n",
    "plt.ylabel('loss')\n",
    "plt.xlabel('iterations')\n",
    "plt.title(\"Learning rate =\" + str(0.05))\n",
    "plt.show()"
   ]
  },
  {
   "cell_type": "code",
   "execution_count": 22,
   "metadata": {},
   "outputs": [],
   "source": [
    "def predict(X, yd, parameters_final):\n",
    "    '''\n",
    "      Inputs:\n",
    "      - X: Input features\n",
    "      - yd: y desired values(labels given in dataset)\n",
    "      - parameters_final: final updated values of parameters\n",
    "\n",
    "      Outputs: \n",
    "      - Returns the accuracy \n",
    "    '''\n",
    "    y_pred , l = feed_forward(X , parameters_final)\n",
    "    y_pred = np.round(y_pred)\n",
    "    correct_pred = 0 \n",
    "    for i in range(yd.shape[1]):\n",
    "        if y_pred[0][i] == yd[0][i]:\n",
    "            correct_pred = correct_pred + 1\n",
    "    accuracy = correct_pred/yd.shape[1]\n",
    "    return accuracy"
   ]
  },
  {
   "cell_type": "code",
   "execution_count": 23,
   "metadata": {},
   "outputs": [
    {
     "name": "stdout",
     "output_type": "stream",
     "text": [
      "Accuracy on train is :-  0.9302325581395349\n",
      "Accuracy on test is :-  0.5555555555555556\n"
     ]
    }
   ],
   "source": [
    "acc=predict(X_train.T, y_train, parameters_final)\n",
    "print(\"Accuracy on train is :- \", acc)\n",
    "acc=predict(X_test.T, y_test, parameters_final)\n",
    "print(\"Accuracy on test is :- \", acc)"
   ]
  },
  {
   "cell_type": "code",
   "execution_count": null,
   "metadata": {},
   "outputs": [],
   "source": []
  }
 ],
 "metadata": {
  "kernelspec": {
   "display_name": "Python 3",
   "language": "python",
   "name": "python3"
  },
  "language_info": {
   "codemirror_mode": {
    "name": "ipython",
    "version": 3
   },
   "file_extension": ".py",
   "mimetype": "text/x-python",
   "name": "python",
   "nbconvert_exporter": "python",
   "pygments_lexer": "ipython3",
   "version": "3.7.6"
  }
 },
 "nbformat": 4,
 "nbformat_minor": 4
}
